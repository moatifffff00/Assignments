{
 "cells": [
  {
   "cell_type": "markdown",
   "id": "1b7e756f-cdf2-4102-ae1e-fe8b43849c66",
   "metadata": {},
   "source": [
    "# I need a Game for Car \n",
    "\n",
    "when i input start print \"I'm ready to go \"\n",
    "\n",
    "when i input stop print \"Car stop\"\n",
    "\n",
    "when i input Quit stop the game \n",
    "\n",
    "and add help to help him in this choise if he didn't know --> like a massage to till him"
   ]
  },
  {
   "cell_type": "code",
   "execution_count": 1,
   "id": "63f4576d-ed25-4fb9-832a-399567f38269",
   "metadata": {},
   "outputs": [],
   "source": [
    "class CarGame:\n",
    "    def __init__(self):\n",
    "        self.running = False\n",
    "\n",
    "    def start(self):\n",
    "        if not self.running:\n",
    "            print(\"I'm ready to go\")\n",
    "            self.running = True\n",
    "        else:\n",
    "            print(\"Car is already running!\")\n",
    "\n",
    "    def stop(self):\n",
    "        if self.running:\n",
    "            print(\"Car stop\")\n",
    "            self.running = False\n",
    "        else:\n",
    "            print(\"Car is already stopped!\")\n",
    "\n",
    "    def quit(self):\n",
    "        print(\"Game over\")\n",
    "        self.running = False\n",
    "\n",
    "    def help(self):\n",
    "        print(\"Available commands: \")\n",
    "        print(\"start - to start the car\")\n",
    "        print(\"stop - to stop the car\")\n",
    "        print(\"quit - to quit the game\")\n",
    "        print(\"help - to show available commands\")\n",
    "\n",
    "    def play(self):\n",
    "        while True:\n",
    "            choice = input(\"Enter your choice: \")\n",
    "            if choice == 'start':\n",
    "                self.start()\n",
    "            elif choice == 'stop':\n",
    "                self.stop()\n",
    "            elif choice == 'quit':\n",
    "                self.quit()\n",
    "                break\n",
    "            elif choice == 'help':\n",
    "                self.help()\n",
    "            else:\n",
    "                print(\"Invalid choice. Type 'help' to see available commands.\")\n",
    "\n",
    "        "
   ]
  },
  {
   "cell_type": "code",
   "execution_count": null,
   "id": "9b7f388f-f528-408a-b201-702f85824e76",
   "metadata": {},
   "outputs": [],
   "source": []
  },
  {
   "cell_type": "code",
   "execution_count": null,
   "id": "7351790d-e194-42a3-b2c6-acd84a3da816",
   "metadata": {},
   "outputs": [],
   "source": []
  },
  {
   "cell_type": "markdown",
   "id": "66397f40-91a5-4c2b-a612-094a6732e697",
   "metadata": {},
   "source": [
    "# I need math game \n",
    "\n",
    "when i choise any number give my the maltiplcation of it like \n",
    "\n",
    "1*1=1\n",
    "\n",
    "1*2=2\n",
    "\n",
    "1*3=3\n",
    "\n",
    "so on ..."
   ]
  },
  {
   "cell_type": "code",
   "execution_count": null,
   "id": "2bf90b39-06e4-4cdf-9c3a-667649a1b356",
   "metadata": {},
   "outputs": [],
   "source": [
    "class MathGame:\n",
    "    def __init__(self):\n",
    "        self.number = 1\n",
    "\n",
    "    def set_number(self, number):\n",
    "        if number > 0:\n",
    "            self.number = number\n",
    "        else:\n",
    "            print(\"Invalid number. Please choose a positive integer.\")\n",
    "\n",
    "    def play(self):\n",
    "        while True:\n",
    "            print(f\"Multiplication table for {self.number}:\")\n",
    "            for i in range(1, 11):\n",
    "                print(f\"{self.number} * {i} = {self.number * i}\")\n",
    "            print()\n",
    "\n",
    "            choice = input(\"Enter a number (or type 'quit' to exit): \")\n",
    "            if choice == 'quit':\n",
    "                print(\"Game over\")\n",
    "                break\n",
    "            elif choice.isdigit():\n",
    "                self.set_number(int(choice))\n",
    "            else:\n",
    "                print(\"Invalid input. Please enter a number or type 'quit' to exit.\")\n"
   ]
  },
  {
   "cell_type": "markdown",
   "id": "713f9b31-0a7e-44a5-93c6-f2fb277d365e",
   "metadata": {},
   "source": [
    "# Note"
   ]
  },
  {
   "cell_type": "markdown",
   "id": "20ebb7a5-0599-4bd5-b3a3-ad40761943da",
   "metadata": {},
   "source": [
    "### To help you i need a class that have both this game and anther function in this class make me choise what i need to play the car game or math game "
   ]
  },
  {
   "cell_type": "code",
   "execution_count": null,
   "id": "a8685501-82b7-483d-9198-3148e02e9c7a",
   "metadata": {},
   "outputs": [],
   "source": []
  }
 ],
 "metadata": {
  "kernelspec": {
   "display_name": "Python 3 (ipykernel)",
   "language": "python",
   "name": "python3"
  },
  "language_info": {
   "codemirror_mode": {
    "name": "ipython",
    "version": 3
   },
   "file_extension": ".py",
   "mimetype": "text/x-python",
   "name": "python",
   "nbconvert_exporter": "python",
   "pygments_lexer": "ipython3",
   "version": "3.9.13"
  }
 },
 "nbformat": 4,
 "nbformat_minor": 5
}
